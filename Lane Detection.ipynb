{
 "cells": [
  {
   "cell_type": "code",
   "execution_count": 1,
   "metadata": {
    "collapsed": true
   },
   "outputs": [],
   "source": [
    "import numpy as np\n",
    "import cv2"
   ]
  },
  {
   "cell_type": "code",
   "execution_count": 3,
   "metadata": {},
   "outputs": [],
   "source": [
    "#img = cv2.imread('exit-ramp.jpg')\n",
    "cap = cv2.VideoCapture('1.avi')\n",
    "\n",
    "while True:\n",
    "    _, img = cap.read()\n",
    "    img_gray = cv2.cvtColor(img, cv2.COLOR_BGR2GRAY)\n",
    "\n",
    "    cv2.imshow('img', img)\n",
    "    #cv2.imshow('img_gray', img_gray)\n",
    "\n",
    "    # Smoothing the original image\n",
    "    kernel_size = 3\n",
    "    img_gray_blur = cv2.GaussianBlur(img_gray, (kernel_size,kernel_size), 0)\n",
    "    cv2.imshow('img_gray_blur', img_gray_blur)\n",
    "\n",
    "    low_threshold = 50\n",
    "    high_threshold = 110\n",
    "\n",
    "    img_gray_blur_edge = cv2.Canny(img_gray_blur, low_threshold, high_threshold, 5)\n",
    "    cv2.imshow('edge', img_gray_blur_edge)\n",
    "\n",
    "    mask = np.zeros(img_gray.shape, dtype=np.uint8)\n",
    "    #roi_corners = np.array([[(10,10), (300,300), (10,300)]], dtype=np.int32)\n",
    "    h, w = img_gray_blur_edge.shape\n",
    "    #roi_corners = np.array([[(w/2,0.66*h), (0,h), (w,h)]], dtype=np.int32)\n",
    "    roi_corners = np.array([[(.65*w,0.75*h),(.35*w,0.75*h), (0,h), (w,h)]], dtype=np.int32)\n",
    "    # fill the ROI so it doesn't get wiped out when the mask is applied\n",
    "    #channel_count = img_gray.shape[2]  # i.e. 3 or 4 depending on your image\n",
    "    ignore_mask_color = (255,)\n",
    "    cv2.fillPoly(mask, roi_corners, ignore_mask_color)\n",
    "    cv2.imshow('mask', mask)\n",
    "\n",
    "    roi_img = cv2.bitwise_and(img_gray_blur_edge,mask)\n",
    "    cv2.imshow('roi_img', roi_img)\n",
    "\n",
    "    img_gray_blur_edge_bgr = cv2.cvtColor(img_gray_blur_edge, cv2.COLOR_GRAY2BGR)\n",
    "\n",
    "    linesP = cv2.HoughLinesP(roi_img, 5, np.pi / 180, 100, None, 50, 130)\n",
    "    if linesP is not None:\n",
    "        for i in range(0, len(linesP)):\n",
    "            l = linesP[i][0]\n",
    "            cv2.line(img, (l[0], l[1]), (l[2], l[3]), (0,0,255), 3, cv2.LINE_AA)\n",
    "\n",
    "    cv2.imshow('final', img)\n",
    "    if cv2.waitKey(1) &0xFF == 27:\n",
    "        break\n",
    "cv2.destroyAllWindows()"
   ]
  },
  {
   "cell_type": "code",
   "execution_count": null,
   "metadata": {
    "collapsed": true
   },
   "outputs": [],
   "source": [
    "cv2.destroyAllWindows()"
   ]
  },
  {
   "cell_type": "code",
   "execution_count": 31,
   "metadata": {
    "scrolled": true
   },
   "outputs": [
    {
     "name": "stdout",
     "output_type": "stream",
     "text": [
      "(540, 960)\n"
     ]
    }
   ],
   "source": [
    "print(img_gray.shape)"
   ]
  },
  {
   "cell_type": "code",
   "execution_count": null,
   "metadata": {
    "collapsed": true
   },
   "outputs": [],
   "source": []
  }
 ],
 "metadata": {
  "kernelspec": {
   "display_name": "Python 3",
   "language": "python",
   "name": "python3"
  },
  "language_info": {
   "codemirror_mode": {
    "name": "ipython",
    "version": 3
   },
   "file_extension": ".py",
   "mimetype": "text/x-python",
   "name": "python",
   "nbconvert_exporter": "python",
   "pygments_lexer": "ipython3",
   "version": "3.6.3"
  }
 },
 "nbformat": 4,
 "nbformat_minor": 2
}
